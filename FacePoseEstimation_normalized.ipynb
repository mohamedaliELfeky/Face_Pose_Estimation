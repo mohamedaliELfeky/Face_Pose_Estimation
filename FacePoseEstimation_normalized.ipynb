{
 "cells": [
  {
   "cell_type": "markdown",
   "metadata": {
    "id": "Zk7O3adE6CNC"
   },
   "source": [
    "## Import Dataset\n",
    "**uncomment the code at the begining**"
   ]
  },
  {
   "cell_type": "code",
   "execution_count": null,
   "metadata": {
    "id": "qzTH_qVIFyv5"
   },
   "outputs": [],
   "source": [
    "!pip install mediapipe\n",
    "\n",
    "print(\"Downloading Dataset\")\n",
    "!curl http://www.cbsr.ia.ac.cn/users/xiangyuzhu/projects/3DDFA/Database/AFLW2000-3D.zip  --output AFLW2000-3D.zip\n",
    "\n",
    "!unzip AFLW2000-3D.zip"
   ]
  },
  {
   "cell_type": "markdown",
   "metadata": {
    "id": "ASdrRHio7OOf"
   },
   "source": [
    "## Importing liberary"
   ]
  },
  {
   "cell_type": "code",
   "execution_count": 2,
   "metadata": {
    "id": "9q-wLO3j7OCo"
   },
   "outputs": [],
   "source": [
    "import os\n",
    "import gc\n",
    "import glob\n",
    "\n",
    "import pandas as pd\n",
    "import numpy as np\n",
    "from matplotlib import pyplot as plt\n",
    "\n",
    "\n",
    "import cv2\n",
    "import mediapipe as mp\n",
    "\n",
    "\n",
    "import math\n",
    "\n",
    "from sklearn.datasets import make_regression\n",
    "from sklearn.multioutput import MultiOutputRegressor\n",
    "from sklearn.svm import SVR\n",
    "from sklearn.linear_model import LinearRegression, Ridge, Lasso\n",
    "from sklearn.metrics import mean_squared_error, mean_absolute_error, r2_score\n",
    "from sklearn.ensemble import ExtraTreesRegressor\n",
    "from sklearn.model_selection import RandomizedSearchCV, GridSearchCV, train_test_split\n",
    "from sklearn.preprocessing import StandardScaler\n",
    "from sklearn.pipeline import Pipeline\n",
    "from sklearn.decomposition import PCA\n",
    "import xgboost as xgb\n",
    "\n",
    "import warnings\n",
    "warnings.filterwarnings(\"ignore\")\n",
    "\n",
    "import scipy.io as sio"
   ]
  },
  {
   "cell_type": "markdown",
   "metadata": {
    "id": "teFxGdb_7Bcy"
   },
   "source": [
    "## Reading Data"
   ]
  },
  {
   "attachments": {},
   "cell_type": "markdown",
   "metadata": {
    "id": "emgnJDS75MkE"
   },
   "source": [
    "# create Data for faceMish\n",
    "\n",
    "\n",
    "**Read the Dataset and Create a facemish features to form a DataFrame and handling the missing values and empty files**\n",
    "**we tried to convert the angle to to polar and train but the result was bad so we keep it**"
   ]
  },
  {
   "cell_type": "code",
   "execution_count": 43,
   "metadata": {
    "id": "XsTaOe8G28t_"
   },
   "outputs": [],
   "source": [
    "def read_data(path='AFLW2000/'):\n",
    "    dataset_dict = []\n",
    "\n",
    "    files_name = glob.glob(path + '*.jpg')\n",
    "\n",
    "    for img_path in files_name:\n",
    "\n",
    "        label_path = img_path[:-3] + 'mat'\n",
    "\n",
    "        if os.path.exists(label_path) and os.path.getsize(label_path) > 0:\n",
    "            label = sio.loadmat(label_path)[\"Pose_Para\"][0][:3]\n",
    "            dataset_dict.append({\"image_name\":img_path, 'pitch':label[0], 'yaw':label[1], 'roll':label[2]})\n",
    "\n",
    "\n",
    "\n",
    "    dataset = pd.DataFrame(dataset_dict)\n",
    "\n",
    "    return dataset"
   ]
  },
  {
   "attachments": {},
   "cell_type": "markdown",
   "metadata": {
    "id": "RshV6sUxyHbA"
   },
   "source": [
    "**Convert the image to RGB if needed while trying the gray scale one**"
   ]
  },
  {
   "cell_type": "code",
   "execution_count": 44,
   "metadata": {
    "id": "2lXBuDxG-gtI"
   },
   "outputs": [],
   "source": [
    "def convert_RGB(img):\n",
    "    if img.ndim < 3:\n",
    "        img = cv2.cvtColor(img, cv2.COLOR_GRAY2RGB)\n",
    "    return img"
   ]
  },
  {
   "cell_type": "markdown",
   "metadata": {
    "id": "R3u0tHN0yOTG"
   },
   "source": [
    "**Get the facemish and other spacified points to form the DataFrame**"
   ]
  },
  {
   "cell_type": "code",
   "execution_count": 45,
   "metadata": {
    "id": "kBZS5QQ5-ubR"
   },
   "outputs": [],
   "source": [
    "def get_facemish(img):\n",
    "    faceMesh_list = {}\n",
    "    \n",
    "    hight, width, _ = img.shape\n",
    "\n",
    "    mp_face_mesh = mp.solutions.face_mesh\n",
    "\n",
    "    with mp_face_mesh.FaceMesh(static_image_mode=True, max_num_faces=1,\n",
    "                                            min_detection_confidence=0.5) as face_mesh_images:\n",
    "        \n",
    "        face_mesh_results = face_mesh_images.process(img)\n",
    "\n",
    "        if face_mesh_results.multi_face_landmarks:\n",
    "\n",
    "            for face_landmarks in face_mesh_results.multi_face_landmarks:\n",
    "                for i, pt in enumerate(face_landmarks.landmark):\n",
    "                    x = pt.x\n",
    "                    y = pt.y\n",
    "                    faceMesh_list.update({f\"X {i}\":x, f\"Y {i}\" :y})\n",
    "\n",
    "    return faceMesh_list"
   ]
  },
  {
   "cell_type": "markdown",
   "metadata": {
    "id": "zHkafhggyq_C"
   },
   "source": [
    "**Merging the 2 function in one**"
   ]
  },
  {
   "cell_type": "code",
   "execution_count": 46,
   "metadata": {
    "id": "y68eTDfPH1ti"
   },
   "outputs": [],
   "source": [
    "def multi_preprocessing(img):\n",
    "    img = convert_RGB(img)\n",
    "    \n",
    "    return get_facemish(img)"
   ]
  },
  {
   "cell_type": "markdown",
   "metadata": {
    "id": "tBLFd0CzyyTQ"
   },
   "source": [
    "**We call the create Dataframe function to call the multi_preprocessing and get the feature point and create the dataFrame**"
   ]
  },
  {
   "cell_type": "code",
   "execution_count": 47,
   "metadata": {
    "id": "GDV-OxDuXSq1"
   },
   "outputs": [],
   "source": [
    "def create_dataFrame(data_img):\n",
    "\n",
    "    dataFrame = pd.DataFrame()\n",
    "    \n",
    "    for _, img in data_img.iterrows():\n",
    "    \n",
    "        image, *labels = img\n",
    "        \n",
    "        features = multi_preprocessing(plt.imread(image))\n",
    "\n",
    "        features.update({'pitch':labels[0], 'yaw':labels[1], 'roll':labels[2], 'image_name':image})\n",
    "        features = pd.Series(features)\n",
    "\n",
    "        dataFrame = dataFrame.append(features, ignore_index=True)\n",
    "        \n",
    "    \n",
    "    return dataFrame"
   ]
  },
  {
   "attachments": {},
   "cell_type": "markdown",
   "metadata": {
    "id": "QKrYlCNBdX24"
   },
   "source": [
    "### Normalize the face feature point with respect to the nose posetion to make it invariant to face size"
   ]
  },
  {
   "cell_type": "code",
   "execution_count": 48,
   "metadata": {
    "id": "1ayIdYOfTg4_"
   },
   "outputs": [],
   "source": [
    "def normalise_nose(df):\n",
    "\n",
    "    # select columns whose names start with \"X, Y\" using filter() function\n",
    "    X_features = df.filter(regex='^X')\n",
    "\n",
    "    Y_features = df.filter(regex='^Y')\n",
    "\n",
    "\n",
    "    # apply your function on the selected columns using apply() function\n",
    "    X_normalized = X_features.apply(lambda x: x - X_features['X 1'])\n",
    "\n",
    "    Y_normalized = Y_features.apply(lambda y: y - Y_features['Y 1'])\n",
    "\n",
    "\n",
    "    # update the original DataFrame with the modified columns\n",
    "    df[X_normalized.columns] = X_normalized\n",
    "\n",
    "    df[Y_normalized.columns] = Y_normalized\n",
    "\n",
    "    return df"
   ]
  },
  {
   "cell_type": "code",
   "execution_count": 49,
   "metadata": {
    "id": "5-wPTSqO4lV-"
   },
   "outputs": [],
   "source": [
    "df  = read_data()"
   ]
  },
  {
   "cell_type": "code",
   "execution_count": 50,
   "metadata": {
    "id": "jCcws249EtEE"
   },
   "outputs": [],
   "source": [
    "train_df = create_dataFrame(df)"
   ]
  },
  {
   "cell_type": "code",
   "execution_count": 51,
   "metadata": {},
   "outputs": [
    {
     "data": {
      "text/html": [
       "<div>\n",
       "<style scoped>\n",
       "    .dataframe tbody tr th:only-of-type {\n",
       "        vertical-align: middle;\n",
       "    }\n",
       "\n",
       "    .dataframe tbody tr th {\n",
       "        vertical-align: top;\n",
       "    }\n",
       "\n",
       "    .dataframe thead th {\n",
       "        text-align: right;\n",
       "    }\n",
       "</style>\n",
       "<table border=\"1\" class=\"dataframe\">\n",
       "  <thead>\n",
       "    <tr style=\"text-align: right;\">\n",
       "      <th></th>\n",
       "      <th>X 0</th>\n",
       "      <th>Y 0</th>\n",
       "      <th>X 1</th>\n",
       "      <th>Y 1</th>\n",
       "      <th>X 2</th>\n",
       "      <th>Y 2</th>\n",
       "      <th>X 3</th>\n",
       "      <th>Y 3</th>\n",
       "      <th>X 4</th>\n",
       "      <th>Y 4</th>\n",
       "      <th>...</th>\n",
       "      <th>X 465</th>\n",
       "      <th>Y 465</th>\n",
       "      <th>X 466</th>\n",
       "      <th>Y 466</th>\n",
       "      <th>X 467</th>\n",
       "      <th>Y 467</th>\n",
       "      <th>pitch</th>\n",
       "      <th>yaw</th>\n",
       "      <th>roll</th>\n",
       "      <th>image_name</th>\n",
       "    </tr>\n",
       "  </thead>\n",
       "  <tbody>\n",
       "    <tr>\n",
       "      <th>0</th>\n",
       "      <td>0.485699</td>\n",
       "      <td>0.687087</td>\n",
       "      <td>0.489150</td>\n",
       "      <td>0.639948</td>\n",
       "      <td>0.489853</td>\n",
       "      <td>0.647495</td>\n",
       "      <td>0.479756</td>\n",
       "      <td>0.562636</td>\n",
       "      <td>0.490495</td>\n",
       "      <td>0.621423</td>\n",
       "      <td>...</td>\n",
       "      <td>0.541506</td>\n",
       "      <td>0.500291</td>\n",
       "      <td>0.665707</td>\n",
       "      <td>0.471219</td>\n",
       "      <td>0.676151</td>\n",
       "      <td>0.463839</td>\n",
       "      <td>-0.399231</td>\n",
       "      <td>0.018227</td>\n",
       "      <td>0.085676</td>\n",
       "      <td>AFLW2000\\image00002.jpg</td>\n",
       "    </tr>\n",
       "    <tr>\n",
       "      <th>1</th>\n",
       "      <td>0.442459</td>\n",
       "      <td>0.642504</td>\n",
       "      <td>0.417327</td>\n",
       "      <td>0.592812</td>\n",
       "      <td>0.449168</td>\n",
       "      <td>0.611022</td>\n",
       "      <td>0.435618</td>\n",
       "      <td>0.544955</td>\n",
       "      <td>0.415644</td>\n",
       "      <td>0.577393</td>\n",
       "      <td>...</td>\n",
       "      <td>0.500206</td>\n",
       "      <td>0.514164</td>\n",
       "      <td>0.584079</td>\n",
       "      <td>0.499727</td>\n",
       "      <td>0.593786</td>\n",
       "      <td>0.494439</td>\n",
       "      <td>0.470065</td>\n",
       "      <td>1.189533</td>\n",
       "      <td>0.300959</td>\n",
       "      <td>AFLW2000\\image00004.jpg</td>\n",
       "    </tr>\n",
       "    <tr>\n",
       "      <th>2</th>\n",
       "      <td>0.318026</td>\n",
       "      <td>0.799192</td>\n",
       "      <td>0.321820</td>\n",
       "      <td>0.776531</td>\n",
       "      <td>0.318601</td>\n",
       "      <td>0.782021</td>\n",
       "      <td>0.311447</td>\n",
       "      <td>0.746027</td>\n",
       "      <td>0.321967</td>\n",
       "      <td>0.767880</td>\n",
       "      <td>...</td>\n",
       "      <td>0.328722</td>\n",
       "      <td>0.723223</td>\n",
       "      <td>0.372980</td>\n",
       "      <td>0.712863</td>\n",
       "      <td>0.377189</td>\n",
       "      <td>0.709551</td>\n",
       "      <td>-0.184650</td>\n",
       "      <td>0.881137</td>\n",
       "      <td>-0.236852</td>\n",
       "      <td>AFLW2000\\image00006.jpg</td>\n",
       "    </tr>\n",
       "    <tr>\n",
       "      <th>3</th>\n",
       "      <td>0.503904</td>\n",
       "      <td>0.694327</td>\n",
       "      <td>0.469415</td>\n",
       "      <td>0.654004</td>\n",
       "      <td>0.489449</td>\n",
       "      <td>0.658819</td>\n",
       "      <td>0.444337</td>\n",
       "      <td>0.590304</td>\n",
       "      <td>0.461645</td>\n",
       "      <td>0.637688</td>\n",
       "      <td>...</td>\n",
       "      <td>0.490581</td>\n",
       "      <td>0.518596</td>\n",
       "      <td>0.595712</td>\n",
       "      <td>0.455546</td>\n",
       "      <td>0.602776</td>\n",
       "      <td>0.444499</td>\n",
       "      <td>-0.175379</td>\n",
       "      <td>0.299208</td>\n",
       "      <td>-0.373374</td>\n",
       "      <td>AFLW2000\\image00008.jpg</td>\n",
       "    </tr>\n",
       "    <tr>\n",
       "      <th>4</th>\n",
       "      <td>NaN</td>\n",
       "      <td>NaN</td>\n",
       "      <td>NaN</td>\n",
       "      <td>NaN</td>\n",
       "      <td>NaN</td>\n",
       "      <td>NaN</td>\n",
       "      <td>NaN</td>\n",
       "      <td>NaN</td>\n",
       "      <td>NaN</td>\n",
       "      <td>NaN</td>\n",
       "      <td>...</td>\n",
       "      <td>NaN</td>\n",
       "      <td>NaN</td>\n",
       "      <td>NaN</td>\n",
       "      <td>NaN</td>\n",
       "      <td>NaN</td>\n",
       "      <td>NaN</td>\n",
       "      <td>-0.882169</td>\n",
       "      <td>1.198004</td>\n",
       "      <td>-1.033374</td>\n",
       "      <td>AFLW2000\\image00010.jpg</td>\n",
       "    </tr>\n",
       "  </tbody>\n",
       "</table>\n",
       "<p>5 rows × 940 columns</p>\n",
       "</div>"
      ],
      "text/plain": [
       "        X 0       Y 0       X 1       Y 1       X 2       Y 2       X 3  \\\n",
       "0  0.485699  0.687087  0.489150  0.639948  0.489853  0.647495  0.479756   \n",
       "1  0.442459  0.642504  0.417327  0.592812  0.449168  0.611022  0.435618   \n",
       "2  0.318026  0.799192  0.321820  0.776531  0.318601  0.782021  0.311447   \n",
       "3  0.503904  0.694327  0.469415  0.654004  0.489449  0.658819  0.444337   \n",
       "4       NaN       NaN       NaN       NaN       NaN       NaN       NaN   \n",
       "\n",
       "        Y 3       X 4       Y 4  ...     X 465     Y 465     X 466     Y 466  \\\n",
       "0  0.562636  0.490495  0.621423  ...  0.541506  0.500291  0.665707  0.471219   \n",
       "1  0.544955  0.415644  0.577393  ...  0.500206  0.514164  0.584079  0.499727   \n",
       "2  0.746027  0.321967  0.767880  ...  0.328722  0.723223  0.372980  0.712863   \n",
       "3  0.590304  0.461645  0.637688  ...  0.490581  0.518596  0.595712  0.455546   \n",
       "4       NaN       NaN       NaN  ...       NaN       NaN       NaN       NaN   \n",
       "\n",
       "      X 467     Y 467     pitch       yaw      roll               image_name  \n",
       "0  0.676151  0.463839 -0.399231  0.018227  0.085676  AFLW2000\\image00002.jpg  \n",
       "1  0.593786  0.494439  0.470065  1.189533  0.300959  AFLW2000\\image00004.jpg  \n",
       "2  0.377189  0.709551 -0.184650  0.881137 -0.236852  AFLW2000\\image00006.jpg  \n",
       "3  0.602776  0.444499 -0.175379  0.299208 -0.373374  AFLW2000\\image00008.jpg  \n",
       "4       NaN       NaN -0.882169  1.198004 -1.033374  AFLW2000\\image00010.jpg  \n",
       "\n",
       "[5 rows x 940 columns]"
      ]
     },
     "execution_count": 51,
     "metadata": {},
     "output_type": "execute_result"
    }
   ],
   "source": [
    "train_df.head()"
   ]
  },
  {
   "cell_type": "markdown",
   "metadata": {
    "id": "vnSir2kTzB9X"
   },
   "source": [
    "**Some image mediaPipe can't get its features so we drop the null**"
   ]
  },
  {
   "cell_type": "code",
   "execution_count": 52,
   "metadata": {
    "id": "kBvXJ3tv4GwA"
   },
   "outputs": [],
   "source": [
    "train_df.dropna(inplace=True)"
   ]
  },
  {
   "cell_type": "code",
   "execution_count": 53,
   "metadata": {
    "id": "aIwc4Ak0uN-G"
   },
   "outputs": [
    {
     "data": {
      "text/plain": [
       "(1854, 940)"
      ]
     },
     "execution_count": 53,
     "metadata": {},
     "output_type": "execute_result"
    }
   ],
   "source": [
    "train_df.shape"
   ]
  },
  {
   "cell_type": "code",
   "execution_count": 54,
   "metadata": {
    "id": "siiuRDJ4Udex"
   },
   "outputs": [
    {
     "data": {
      "text/html": [
       "<div>\n",
       "<style scoped>\n",
       "    .dataframe tbody tr th:only-of-type {\n",
       "        vertical-align: middle;\n",
       "    }\n",
       "\n",
       "    .dataframe tbody tr th {\n",
       "        vertical-align: top;\n",
       "    }\n",
       "\n",
       "    .dataframe thead th {\n",
       "        text-align: right;\n",
       "    }\n",
       "</style>\n",
       "<table border=\"1\" class=\"dataframe\">\n",
       "  <thead>\n",
       "    <tr style=\"text-align: right;\">\n",
       "      <th></th>\n",
       "      <th>X 0</th>\n",
       "      <th>Y 0</th>\n",
       "      <th>X 1</th>\n",
       "      <th>Y 1</th>\n",
       "      <th>X 2</th>\n",
       "      <th>Y 2</th>\n",
       "      <th>X 3</th>\n",
       "      <th>Y 3</th>\n",
       "      <th>X 4</th>\n",
       "      <th>Y 4</th>\n",
       "      <th>...</th>\n",
       "      <th>X 465</th>\n",
       "      <th>Y 465</th>\n",
       "      <th>X 466</th>\n",
       "      <th>Y 466</th>\n",
       "      <th>X 467</th>\n",
       "      <th>Y 467</th>\n",
       "      <th>pitch</th>\n",
       "      <th>yaw</th>\n",
       "      <th>roll</th>\n",
       "      <th>image_name</th>\n",
       "    </tr>\n",
       "  </thead>\n",
       "  <tbody>\n",
       "    <tr>\n",
       "      <th>0</th>\n",
       "      <td>-0.003452</td>\n",
       "      <td>0.047139</td>\n",
       "      <td>0.0</td>\n",
       "      <td>0.0</td>\n",
       "      <td>0.000702</td>\n",
       "      <td>0.007547</td>\n",
       "      <td>-0.009395</td>\n",
       "      <td>-0.077312</td>\n",
       "      <td>0.001345</td>\n",
       "      <td>-0.018525</td>\n",
       "      <td>...</td>\n",
       "      <td>0.052356</td>\n",
       "      <td>-0.139657</td>\n",
       "      <td>0.176557</td>\n",
       "      <td>-0.168729</td>\n",
       "      <td>0.187001</td>\n",
       "      <td>-0.176109</td>\n",
       "      <td>-0.399231</td>\n",
       "      <td>0.018227</td>\n",
       "      <td>0.085676</td>\n",
       "      <td>AFLW2000\\image00002.jpg</td>\n",
       "    </tr>\n",
       "    <tr>\n",
       "      <th>1</th>\n",
       "      <td>0.025133</td>\n",
       "      <td>0.049692</td>\n",
       "      <td>0.0</td>\n",
       "      <td>0.0</td>\n",
       "      <td>0.031842</td>\n",
       "      <td>0.018210</td>\n",
       "      <td>0.018291</td>\n",
       "      <td>-0.047857</td>\n",
       "      <td>-0.001682</td>\n",
       "      <td>-0.015419</td>\n",
       "      <td>...</td>\n",
       "      <td>0.082880</td>\n",
       "      <td>-0.078648</td>\n",
       "      <td>0.166752</td>\n",
       "      <td>-0.093085</td>\n",
       "      <td>0.176460</td>\n",
       "      <td>-0.098373</td>\n",
       "      <td>0.470065</td>\n",
       "      <td>1.189533</td>\n",
       "      <td>0.300959</td>\n",
       "      <td>AFLW2000\\image00004.jpg</td>\n",
       "    </tr>\n",
       "    <tr>\n",
       "      <th>2</th>\n",
       "      <td>-0.003794</td>\n",
       "      <td>0.022660</td>\n",
       "      <td>0.0</td>\n",
       "      <td>0.0</td>\n",
       "      <td>-0.003219</td>\n",
       "      <td>0.005490</td>\n",
       "      <td>-0.010373</td>\n",
       "      <td>-0.030505</td>\n",
       "      <td>0.000148</td>\n",
       "      <td>-0.008651</td>\n",
       "      <td>...</td>\n",
       "      <td>0.006902</td>\n",
       "      <td>-0.053308</td>\n",
       "      <td>0.051160</td>\n",
       "      <td>-0.063668</td>\n",
       "      <td>0.055369</td>\n",
       "      <td>-0.066981</td>\n",
       "      <td>-0.184650</td>\n",
       "      <td>0.881137</td>\n",
       "      <td>-0.236852</td>\n",
       "      <td>AFLW2000\\image00006.jpg</td>\n",
       "    </tr>\n",
       "    <tr>\n",
       "      <th>3</th>\n",
       "      <td>0.034489</td>\n",
       "      <td>0.040323</td>\n",
       "      <td>0.0</td>\n",
       "      <td>0.0</td>\n",
       "      <td>0.020034</td>\n",
       "      <td>0.004815</td>\n",
       "      <td>-0.025078</td>\n",
       "      <td>-0.063699</td>\n",
       "      <td>-0.007770</td>\n",
       "      <td>-0.016316</td>\n",
       "      <td>...</td>\n",
       "      <td>0.021166</td>\n",
       "      <td>-0.135407</td>\n",
       "      <td>0.126297</td>\n",
       "      <td>-0.198458</td>\n",
       "      <td>0.133361</td>\n",
       "      <td>-0.209504</td>\n",
       "      <td>-0.175379</td>\n",
       "      <td>0.299208</td>\n",
       "      <td>-0.373374</td>\n",
       "      <td>AFLW2000\\image00008.jpg</td>\n",
       "    </tr>\n",
       "    <tr>\n",
       "      <th>5</th>\n",
       "      <td>0.017556</td>\n",
       "      <td>0.064269</td>\n",
       "      <td>0.0</td>\n",
       "      <td>0.0</td>\n",
       "      <td>0.007057</td>\n",
       "      <td>0.019690</td>\n",
       "      <td>-0.025400</td>\n",
       "      <td>-0.062405</td>\n",
       "      <td>-0.004541</td>\n",
       "      <td>-0.020095</td>\n",
       "      <td>...</td>\n",
       "      <td>0.012831</td>\n",
       "      <td>-0.112081</td>\n",
       "      <td>0.109594</td>\n",
       "      <td>-0.152155</td>\n",
       "      <td>0.118412</td>\n",
       "      <td>-0.156283</td>\n",
       "      <td>-0.026812</td>\n",
       "      <td>0.011965</td>\n",
       "      <td>-0.220662</td>\n",
       "      <td>AFLW2000\\image00013.jpg</td>\n",
       "    </tr>\n",
       "  </tbody>\n",
       "</table>\n",
       "<p>5 rows × 940 columns</p>\n",
       "</div>"
      ],
      "text/plain": [
       "        X 0       Y 0  X 1  Y 1       X 2       Y 2       X 3       Y 3  \\\n",
       "0 -0.003452  0.047139  0.0  0.0  0.000702  0.007547 -0.009395 -0.077312   \n",
       "1  0.025133  0.049692  0.0  0.0  0.031842  0.018210  0.018291 -0.047857   \n",
       "2 -0.003794  0.022660  0.0  0.0 -0.003219  0.005490 -0.010373 -0.030505   \n",
       "3  0.034489  0.040323  0.0  0.0  0.020034  0.004815 -0.025078 -0.063699   \n",
       "5  0.017556  0.064269  0.0  0.0  0.007057  0.019690 -0.025400 -0.062405   \n",
       "\n",
       "        X 4       Y 4  ...     X 465     Y 465     X 466     Y 466     X 467  \\\n",
       "0  0.001345 -0.018525  ...  0.052356 -0.139657  0.176557 -0.168729  0.187001   \n",
       "1 -0.001682 -0.015419  ...  0.082880 -0.078648  0.166752 -0.093085  0.176460   \n",
       "2  0.000148 -0.008651  ...  0.006902 -0.053308  0.051160 -0.063668  0.055369   \n",
       "3 -0.007770 -0.016316  ...  0.021166 -0.135407  0.126297 -0.198458  0.133361   \n",
       "5 -0.004541 -0.020095  ...  0.012831 -0.112081  0.109594 -0.152155  0.118412   \n",
       "\n",
       "      Y 467     pitch       yaw      roll               image_name  \n",
       "0 -0.176109 -0.399231  0.018227  0.085676  AFLW2000\\image00002.jpg  \n",
       "1 -0.098373  0.470065  1.189533  0.300959  AFLW2000\\image00004.jpg  \n",
       "2 -0.066981 -0.184650  0.881137 -0.236852  AFLW2000\\image00006.jpg  \n",
       "3 -0.209504 -0.175379  0.299208 -0.373374  AFLW2000\\image00008.jpg  \n",
       "5 -0.156283 -0.026812  0.011965 -0.220662  AFLW2000\\image00013.jpg  \n",
       "\n",
       "[5 rows x 940 columns]"
      ]
     },
     "execution_count": 54,
     "metadata": {},
     "output_type": "execute_result"
    }
   ],
   "source": [
    "train_df = normalise_nose(train_df)\n",
    "train_df.head()"
   ]
  },
  {
   "cell_type": "code",
   "execution_count": 55,
   "metadata": {
    "id": "DizqFmQ9Q7Qx"
   },
   "outputs": [],
   "source": [
    "train_df.to_csv(\"final_train.csv\", index=False)\n"
   ]
  },
  {
   "cell_type": "code",
   "execution_count": 56,
   "metadata": {
    "id": "p7b355zG8Gut"
   },
   "outputs": [
    {
     "data": {
      "text/html": [
       "<div>\n",
       "<style scoped>\n",
       "    .dataframe tbody tr th:only-of-type {\n",
       "        vertical-align: middle;\n",
       "    }\n",
       "\n",
       "    .dataframe tbody tr th {\n",
       "        vertical-align: top;\n",
       "    }\n",
       "\n",
       "    .dataframe thead th {\n",
       "        text-align: right;\n",
       "    }\n",
       "</style>\n",
       "<table border=\"1\" class=\"dataframe\">\n",
       "  <thead>\n",
       "    <tr style=\"text-align: right;\">\n",
       "      <th></th>\n",
       "      <th>X 0</th>\n",
       "      <th>Y 0</th>\n",
       "      <th>X 1</th>\n",
       "      <th>Y 1</th>\n",
       "      <th>X 2</th>\n",
       "      <th>Y 2</th>\n",
       "      <th>X 3</th>\n",
       "      <th>Y 3</th>\n",
       "      <th>X 4</th>\n",
       "      <th>Y 4</th>\n",
       "      <th>...</th>\n",
       "      <th>X 465</th>\n",
       "      <th>Y 465</th>\n",
       "      <th>X 466</th>\n",
       "      <th>Y 466</th>\n",
       "      <th>X 467</th>\n",
       "      <th>Y 467</th>\n",
       "      <th>pitch</th>\n",
       "      <th>yaw</th>\n",
       "      <th>roll</th>\n",
       "      <th>image_name</th>\n",
       "    </tr>\n",
       "  </thead>\n",
       "  <tbody>\n",
       "    <tr>\n",
       "      <th>0</th>\n",
       "      <td>-0.003452</td>\n",
       "      <td>0.047139</td>\n",
       "      <td>0.0</td>\n",
       "      <td>0.0</td>\n",
       "      <td>0.000702</td>\n",
       "      <td>0.007547</td>\n",
       "      <td>-0.009395</td>\n",
       "      <td>-0.077312</td>\n",
       "      <td>0.001345</td>\n",
       "      <td>-0.018525</td>\n",
       "      <td>...</td>\n",
       "      <td>0.052356</td>\n",
       "      <td>-0.139657</td>\n",
       "      <td>0.176557</td>\n",
       "      <td>-0.168729</td>\n",
       "      <td>0.187001</td>\n",
       "      <td>-0.176109</td>\n",
       "      <td>-0.399231</td>\n",
       "      <td>0.018227</td>\n",
       "      <td>0.085676</td>\n",
       "      <td>AFLW2000\\image00002.jpg</td>\n",
       "    </tr>\n",
       "    <tr>\n",
       "      <th>1</th>\n",
       "      <td>0.025133</td>\n",
       "      <td>0.049692</td>\n",
       "      <td>0.0</td>\n",
       "      <td>0.0</td>\n",
       "      <td>0.031842</td>\n",
       "      <td>0.018210</td>\n",
       "      <td>0.018291</td>\n",
       "      <td>-0.047857</td>\n",
       "      <td>-0.001682</td>\n",
       "      <td>-0.015419</td>\n",
       "      <td>...</td>\n",
       "      <td>0.082880</td>\n",
       "      <td>-0.078648</td>\n",
       "      <td>0.166752</td>\n",
       "      <td>-0.093085</td>\n",
       "      <td>0.176460</td>\n",
       "      <td>-0.098373</td>\n",
       "      <td>0.470065</td>\n",
       "      <td>1.189533</td>\n",
       "      <td>0.300959</td>\n",
       "      <td>AFLW2000\\image00004.jpg</td>\n",
       "    </tr>\n",
       "    <tr>\n",
       "      <th>2</th>\n",
       "      <td>-0.003794</td>\n",
       "      <td>0.022660</td>\n",
       "      <td>0.0</td>\n",
       "      <td>0.0</td>\n",
       "      <td>-0.003219</td>\n",
       "      <td>0.005490</td>\n",
       "      <td>-0.010373</td>\n",
       "      <td>-0.030505</td>\n",
       "      <td>0.000148</td>\n",
       "      <td>-0.008651</td>\n",
       "      <td>...</td>\n",
       "      <td>0.006902</td>\n",
       "      <td>-0.053308</td>\n",
       "      <td>0.051160</td>\n",
       "      <td>-0.063668</td>\n",
       "      <td>0.055369</td>\n",
       "      <td>-0.066981</td>\n",
       "      <td>-0.184650</td>\n",
       "      <td>0.881137</td>\n",
       "      <td>-0.236852</td>\n",
       "      <td>AFLW2000\\image00006.jpg</td>\n",
       "    </tr>\n",
       "    <tr>\n",
       "      <th>3</th>\n",
       "      <td>0.034489</td>\n",
       "      <td>0.040323</td>\n",
       "      <td>0.0</td>\n",
       "      <td>0.0</td>\n",
       "      <td>0.020034</td>\n",
       "      <td>0.004815</td>\n",
       "      <td>-0.025078</td>\n",
       "      <td>-0.063699</td>\n",
       "      <td>-0.007770</td>\n",
       "      <td>-0.016316</td>\n",
       "      <td>...</td>\n",
       "      <td>0.021166</td>\n",
       "      <td>-0.135407</td>\n",
       "      <td>0.126297</td>\n",
       "      <td>-0.198458</td>\n",
       "      <td>0.133361</td>\n",
       "      <td>-0.209504</td>\n",
       "      <td>-0.175379</td>\n",
       "      <td>0.299208</td>\n",
       "      <td>-0.373374</td>\n",
       "      <td>AFLW2000\\image00008.jpg</td>\n",
       "    </tr>\n",
       "    <tr>\n",
       "      <th>4</th>\n",
       "      <td>0.017556</td>\n",
       "      <td>0.064269</td>\n",
       "      <td>0.0</td>\n",
       "      <td>0.0</td>\n",
       "      <td>0.007057</td>\n",
       "      <td>0.019690</td>\n",
       "      <td>-0.025400</td>\n",
       "      <td>-0.062405</td>\n",
       "      <td>-0.004541</td>\n",
       "      <td>-0.020095</td>\n",
       "      <td>...</td>\n",
       "      <td>0.012831</td>\n",
       "      <td>-0.112081</td>\n",
       "      <td>0.109594</td>\n",
       "      <td>-0.152155</td>\n",
       "      <td>0.118412</td>\n",
       "      <td>-0.156283</td>\n",
       "      <td>-0.026812</td>\n",
       "      <td>0.011965</td>\n",
       "      <td>-0.220662</td>\n",
       "      <td>AFLW2000\\image00013.jpg</td>\n",
       "    </tr>\n",
       "  </tbody>\n",
       "</table>\n",
       "<p>5 rows × 940 columns</p>\n",
       "</div>"
      ],
      "text/plain": [
       "        X 0       Y 0  X 1  Y 1       X 2       Y 2       X 3       Y 3  \\\n",
       "0 -0.003452  0.047139  0.0  0.0  0.000702  0.007547 -0.009395 -0.077312   \n",
       "1  0.025133  0.049692  0.0  0.0  0.031842  0.018210  0.018291 -0.047857   \n",
       "2 -0.003794  0.022660  0.0  0.0 -0.003219  0.005490 -0.010373 -0.030505   \n",
       "3  0.034489  0.040323  0.0  0.0  0.020034  0.004815 -0.025078 -0.063699   \n",
       "4  0.017556  0.064269  0.0  0.0  0.007057  0.019690 -0.025400 -0.062405   \n",
       "\n",
       "        X 4       Y 4  ...     X 465     Y 465     X 466     Y 466     X 467  \\\n",
       "0  0.001345 -0.018525  ...  0.052356 -0.139657  0.176557 -0.168729  0.187001   \n",
       "1 -0.001682 -0.015419  ...  0.082880 -0.078648  0.166752 -0.093085  0.176460   \n",
       "2  0.000148 -0.008651  ...  0.006902 -0.053308  0.051160 -0.063668  0.055369   \n",
       "3 -0.007770 -0.016316  ...  0.021166 -0.135407  0.126297 -0.198458  0.133361   \n",
       "4 -0.004541 -0.020095  ...  0.012831 -0.112081  0.109594 -0.152155  0.118412   \n",
       "\n",
       "      Y 467     pitch       yaw      roll               image_name  \n",
       "0 -0.176109 -0.399231  0.018227  0.085676  AFLW2000\\image00002.jpg  \n",
       "1 -0.098373  0.470065  1.189533  0.300959  AFLW2000\\image00004.jpg  \n",
       "2 -0.066981 -0.184650  0.881137 -0.236852  AFLW2000\\image00006.jpg  \n",
       "3 -0.209504 -0.175379  0.299208 -0.373374  AFLW2000\\image00008.jpg  \n",
       "4 -0.156283 -0.026812  0.011965 -0.220662  AFLW2000\\image00013.jpg  \n",
       "\n",
       "[5 rows x 940 columns]"
      ]
     },
     "execution_count": 56,
     "metadata": {},
     "output_type": "execute_result"
    }
   ],
   "source": [
    "train_df = pd.read_csv('final_train.csv')\n",
    "train_df.head()"
   ]
  },
  {
   "cell_type": "markdown",
   "metadata": {
    "id": "Z3wM1t4cY-IC"
   },
   "source": [
    "# Model Stage"
   ]
  },
  {
   "cell_type": "markdown",
   "metadata": {
    "id": "SoF29l8-cg2k"
   },
   "source": [
    "This is a function that trains a machine learning model on the given data using scikit-learn's MultiOutputRegressor class, which is a wrapper for a single regressor that can handle multiple target variables. The function takes in three parameters:\n",
    "\n",
    "base_model: The underlying regressor model to be used, such as Linear Regression, Lasso, or Ridge.\n",
    "X_train: The input feature variables to be used for training the model.\n",
    "y_train: The target variables corresponding to X_train that the model aims to predict.\n",
    "In the first line of the function, base_model is assigned to the variable svr. Then, MultiOutputRegressor is used to create a new regressor object mor that uses base_model as its internal regressor. The fit() method of the mor regressor is called on the training data X_train and y_train to train the model. Finally, the trained model mor is returned by the function."
   ]
  },
  {
   "cell_type": "code",
   "execution_count": 57,
   "metadata": {
    "id": "JCQvRWBcThfr"
   },
   "outputs": [],
   "source": [
    "def model_train(base_model,X_train, y_train):\n",
    "    # Create the Model regressor\n",
    "    svr = base_model\n",
    "    # Create the Multioutput Regressor\n",
    "    mor = MultiOutputRegressor(base_model)\n",
    "    # Train the regressor\n",
    "    mor = mor.fit(X_train, y_train)\n",
    "    return mor"
   ]
  },
  {
   "cell_type": "markdown",
   "metadata": {
    "id": "IEpQ1Dd2cjLW"
   },
   "source": [
    "This is a function that generates predictions for the testing data using the trained model. The function takes in two parameters:\n",
    "\n",
    "model: The trained machine learning model that will be used to generate predictions.\n",
    "X_val: The input feature variables for the validation dataset that the model will be used to predict the target variable for.\n",
    "The predict() method of the model object is called on the validation feature data X_val to generate the predictions for the target variable. These predictions are returned as the output of the function."
   ]
  },
  {
   "cell_type": "code",
   "execution_count": 58,
   "metadata": {
    "id": "vuGCdIgUThcZ"
   },
   "outputs": [],
   "source": [
    "def model_predict(model,X_val):\n",
    "  # Generate predictions for testing data\n",
    "  return model.predict(X_val)"
   ]
  },
  {
   "cell_type": "markdown",
   "metadata": {
    "id": "SZ3DKFWtcrOc"
   },
   "source": [
    "This is a function that evaluates the performance of a trained machine learning model by calculating the mean squared error (MSE) and mean absolute error (MAE) for each target variable in the validation dataset. The function takes in two parameters:\n",
    "\n",
    "y_val: The actual target variables for the validation dataset.\n",
    "y_pred: The predicted target variables for the validation dataset.\n",
    "The function first calculates the MSE and MAE for each target variable by calling the mean_squared_error() and mean_absolute_error() functions from the scikit-learn library. The first argument for each of these functions is the actual target variable for the specific target column in the validation dataset, and the second argument is the predicted target variable for the same target column. The calculated MSE and MAE for each target variable are stored in the variables mse_one, mae_one, mse_two, mae_two, mse_third, and mae_third.\n",
    "\n",
    "The function then prints out the calculated MSE and MAE for each target variable in a human-readable format. The output includes the MSE and MAE for each of the three target variables, with the target variables labeled as the first, second, and third regressor."
   ]
  },
  {
   "cell_type": "code",
   "execution_count": 59,
   "metadata": {
    "id": "NY_lJNF1ThYg"
   },
   "outputs": [],
   "source": [
    "def evaluate_model(y_val, y_pred):\n",
    "    # Evaluate the regressor\n",
    "    mse_one = mean_squared_error(y_val.iloc[:,0], y_pred[:,0])\n",
    "    mse_two = mean_squared_error(y_val.iloc[:,1], y_pred[:,1])\n",
    "    mse_third = mean_squared_error(y_val.iloc[:,2], y_pred[:,2])\n",
    "    print(f'MSE for first regressor: {mse_one} - second regressor: {mse_two} - Thrid regressor: {mse_third}')\n",
    "    mae_one = mean_absolute_error(y_val.iloc[:,0], y_pred[:,0])\n",
    "    mae_two = mean_absolute_error(y_val.iloc[:,1], y_pred[:,1])\n",
    "    mae_third = mean_absolute_error(y_val.iloc[:,2], y_pred[:,2])\n",
    "    print(f'MAE for first regressor: {mae_one} - second regressor: {mae_two} - Thrid regressor: {mae_third}')"
   ]
  },
  {
   "cell_type": "code",
   "execution_count": 60,
   "metadata": {
    "id": "VpY90Q8oZWgb"
   },
   "outputs": [],
   "source": [
    "#Train\n",
    "train_df.drop(['image_name'], axis = 1, inplace = True)\n",
    "X = train_df.iloc[:,:-3]\n",
    "y = train_df.iloc[:,-3:] "
   ]
  },
  {
   "cell_type": "code",
   "execution_count": 61,
   "metadata": {
    "id": "8ST083ZbZO56"
   },
   "outputs": [],
   "source": [
    "#Split\n",
    "X_train, X_val, y_train, y_val = train_test_split(X, y, test_size=0.20, random_state=33)"
   ]
  },
  {
   "cell_type": "markdown",
   "metadata": {
    "id": "_DYUuL79xCgG"
   },
   "source": [
    "# LinearRegression"
   ]
  },
  {
   "cell_type": "markdown",
   "metadata": {
    "id": "nISU_5R3dI3d"
   },
   "source": [
    "To establish a baseline model, we utilized linear regression. However, the results were unsatisfactory and the model appeared to be overfitting the data. Consequently, we decided to explore other models to improve the performance. To that end, we examined the effectiveness of Lasso and Ridge models."
   ]
  },
  {
   "cell_type": "code",
   "execution_count": 62,
   "metadata": {
    "id": "EYJnPGGHxNPA"
   },
   "outputs": [],
   "source": [
    "scaler = StandardScaler().fit(X_train)\n",
    "X_train_std = scaler.transform(X_train)\n",
    "X_val_std = scaler.transform(X_val)"
   ]
  },
  {
   "cell_type": "code",
   "execution_count": 63,
   "metadata": {
    "id": "7wKUQ_W7xCDe"
   },
   "outputs": [],
   "source": [
    "reg = LinearRegression()\n",
    "multi_reg = model_train(reg,X_train_std, y_train)"
   ]
  },
  {
   "cell_type": "code",
   "execution_count": 64,
   "metadata": {
    "id": "O6GfFCY3xB6I"
   },
   "outputs": [
    {
     "name": "stdout",
     "output_type": "stream",
     "text": [
      "MSE for first regressor: 0.48350345938637374 - second regressor: 0.08415366971078136 - Thrid regressor: 0.2674762631851598\n",
      "MAE for first regressor: 0.3298580496193222 - second regressor: 0.1965866114272592 - Thrid regressor: 0.3022119531042025\n"
     ]
    }
   ],
   "source": [
    "# Create the Multioutput Regressor\n",
    "y_pred = model_predict(multi_reg, X_val_std)\n",
    "evaluate_model(y_val, y_pred)"
   ]
  },
  {
   "cell_type": "code",
   "execution_count": 65,
   "metadata": {
    "id": "XtFJKX0xd-y0"
   },
   "outputs": [
    {
     "name": "stdout",
     "output_type": "stream",
     "text": [
      "MSE for first regressor: 0.015619950071530343 - second regressor: 0.007948736509907931 - Thrid regressor: 0.01526612471257049\n",
      "MAE for first regressor: 0.09651022980466784 - second regressor: 0.06352893441303328 - Thrid regressor: 0.09177044126373564\n"
     ]
    }
   ],
   "source": [
    "y_pred_train = model_predict(multi_reg, X_train_std)\n",
    "evaluate_model(y_train, y_pred_train)"
   ]
  },
  {
   "cell_type": "markdown",
   "metadata": {
    "id": "XSyHcTlieFhL"
   },
   "source": [
    "Initially, we used Linear Regression as the baseline model, but the results were not very good, and the model was overfitting. So, we decided to use Lasso and Ridge, which helped to reduce overfitting. However, the model's performance was still not satisfactory. Therefore, we decided to use standard scaling to preprocess the data, hoping to improve accuracy."
   ]
  },
  {
   "cell_type": "markdown",
   "metadata": {
    "id": "pQOitwE9I0Im"
   },
   "source": [
    "## Ridge"
   ]
  },
  {
   "cell_type": "code",
   "execution_count": 66,
   "metadata": {
    "id": "B0NIL97zI1KY"
   },
   "outputs": [
    {
     "name": "stdout",
     "output_type": "stream",
     "text": [
      "MSE for first regressor: 0.1361706409292237 - second regressor: 0.016445832255705145 - Thrid regressor: 0.1621473304689493\n",
      "MAE for first regressor: 0.12337417647891517 - second regressor: 0.08018525276881318 - Thrid regressor: 0.1634811288121667\n"
     ]
    }
   ],
   "source": [
    "clf = Ridge(alpha=0.1, tol = 1e-4)\n",
    "multi_clf = model_train(clf,X_train, y_train)\n",
    "# Generate predictions for testing data\n",
    "y_pred = model_predict(multi_clf,X_val)\n",
    "evaluate_model(y_val, y_pred)"
   ]
  },
  {
   "cell_type": "code",
   "execution_count": 67,
   "metadata": {
    "id": "q3bZp0KKenat"
   },
   "outputs": [
    {
     "name": "stdout",
     "output_type": "stream",
     "text": [
      "MSE for first regressor: 0.290093899159002 - second regressor: 0.05621287000402126 - Thrid regressor: 0.32294136698254555\n",
      "MAE for first regressor: 0.13496774715890708 - second regressor: 0.10242326517705093 - Thrid regressor: 0.1632385100371764\n"
     ]
    }
   ],
   "source": [
    "y_pred_train = model_predict(multi_clf,X_train)\n",
    "evaluate_model(y_train, y_pred_train)"
   ]
  },
  {
   "cell_type": "markdown",
   "metadata": {
    "id": "sx3Q-RZGJEu3"
   },
   "source": [
    "#  Lasso"
   ]
  },
  {
   "cell_type": "code",
   "execution_count": 68,
   "metadata": {
    "id": "dPqmyWUZI1F6"
   },
   "outputs": [],
   "source": [
    "lasso = Lasso(alpha=0.2, tol = 1e-5)\n",
    "multi_clf_lasso = model_train(lasso,X_train_std, y_train)"
   ]
  },
  {
   "cell_type": "code",
   "execution_count": 69,
   "metadata": {
    "id": "gjm8x4UqI1Cl"
   },
   "outputs": [
    {
     "name": "stdout",
     "output_type": "stream",
     "text": [
      "MSE for first regressor: 0.14810335218368514 - second regressor: 0.06865956028335772 - Thrid regressor: 0.14767108716956434\n",
      "MAE for first regressor: 0.18941937207447387 - second regressor: 0.16049937604030348 - Thrid regressor: 0.13915031450669327\n"
     ]
    }
   ],
   "source": [
    "# Create the Multioutput Regressor\n",
    "y_pred = model_predict(multi_clf_lasso,X_val_std)\n",
    "evaluate_model(y_val, y_pred)"
   ]
  },
  {
   "cell_type": "code",
   "execution_count": 70,
   "metadata": {
    "id": "xtS6_kVyetcL"
   },
   "outputs": [
    {
     "name": "stdout",
     "output_type": "stream",
     "text": [
      "MSE for first regressor: 0.3505012275466951 - second regressor: 0.11276553502777385 - Thrid regressor: 0.41736497380961884\n",
      "MAE for first regressor: 0.21366443126510387 - second regressor: 0.17964723380838307 - Thrid regressor: 0.15168968155963586\n"
     ]
    }
   ],
   "source": [
    "# Create the Multioutput Regressor\n",
    "y_pred_train = model_predict(multi_clf_lasso,X_train_std)\n",
    "evaluate_model(y_train, y_pred_train)"
   ]
  },
  {
   "cell_type": "markdown",
   "metadata": {
    "id": "G8k_LiGwJLp9"
   },
   "source": [
    "\n",
    "# Normalization are important for model such as Ridge & Lasso"
   ]
  },
  {
   "cell_type": "markdown",
   "metadata": {
    "id": "QwowV0FsfGKM"
   },
   "source": [
    "After applying standard scaling to preprocess the data, we observed a slight decrease in the mean absolute error, but the model's performance was still not satisfactory. Therefore, we decided to use Support Vector Machines (SVM) for the next step of our solution."
   ]
  },
  {
   "cell_type": "code",
   "execution_count": 71,
   "metadata": {
    "id": "LBwFVvTVJJv_"
   },
   "outputs": [],
   "source": [
    "scaler = StandardScaler().fit(X_train)\n",
    "X_train_std = scaler.transform(X_train)\n",
    "X_val_std = scaler.transform(X_val)"
   ]
  },
  {
   "cell_type": "code",
   "execution_count": 72,
   "metadata": {
    "id": "9d2taIORJJse"
   },
   "outputs": [
    {
     "name": "stdout",
     "output_type": "stream",
     "text": [
      "MSE for first regressor: 0.21279597174630593 - second regressor: 0.021092109322207366 - Thrid regressor: 0.20340993091916543\n",
      "MAE for first regressor: 0.1846777982031816 - second regressor: 0.09756691728701503 - Thrid regressor: 0.22810042659333535\n"
     ]
    }
   ],
   "source": [
    "# Create the Ridge regressor\n",
    "clf_n = Ridge(alpha=0.2, tol = 1e-4)\n",
    "multi_clf_n =  model_train(clf,X_train_std, y_train)\n",
    "# Create the Multioutput Regressor\n",
    "y_pred =model_predict(multi_clf_n,X_val_std)\n",
    "evaluate_model(y_val, y_pred)"
   ]
  },
  {
   "cell_type": "code",
   "execution_count": 73,
   "metadata": {
    "id": "Gnki4ynKJRdv"
   },
   "outputs": [
    {
     "name": "stdout",
     "output_type": "stream",
     "text": [
      "MSE for first regressor: 0.14810335218368514 - second regressor: 0.06866254878567718 - Thrid regressor: 0.14766955374098947\n",
      "MAE for first regressor: 0.18941937207447387 - second regressor: 0.1605015448242217 - Thrid regressor: 0.13914781171864934\n"
     ]
    }
   ],
   "source": [
    "# Create the Ridge regressor\n",
    "Lasso_n = Lasso(alpha=0.2, tol = 1e-4)\n",
    "multi_Lasso_n =  model_train(Lasso_n ,X_train_std, y_train)\n",
    "# Create the Multioutput Regressor\n",
    "y_pred =model_predict(multi_Lasso_n,X_val_std)\n",
    "evaluate_model(y_val, y_pred)"
   ]
  },
  {
   "cell_type": "markdown",
   "metadata": {
    "id": "VzO8p5sAJxD3"
   },
   "source": [
    "# SVM"
   ]
  },
  {
   "cell_type": "markdown",
   "metadata": {
    "id": "AEiIgW-df34E"
   },
   "source": [
    "For the next step in our analysis, we will use Support Vector Machines (SVM) with the radial basis function (RBF) kernel. This choice is based on the fact that the RBF kernel is capable of capturing complex, nonlinear relationships between input features and output targets. Additionally, the RBF kernel has a local nature, which means that it only considers nearby points in the feature space when making predictions. This property allows it to handle high-dimensional data effectively"
   ]
  },
  {
   "cell_type": "code",
   "execution_count": 74,
   "metadata": {
    "id": "7aO9ucNlJjT1"
   },
   "outputs": [],
   "source": [
    "# Create the SVR regressor\n",
    "svr = SVR()\n",
    "svr = model_train(svr,X_train, y_train)"
   ]
  },
  {
   "cell_type": "code",
   "execution_count": 75,
   "metadata": {
    "id": "aC2CjVVfJjQz"
   },
   "outputs": [
    {
     "name": "stdout",
     "output_type": "stream",
     "text": [
      "MSE for first regressor: 0.11887540566526163 - second regressor: 0.01206745417938321 - Thrid regressor: 0.1304682770242424\n",
      "MAE for first regressor: 0.0980016876764528 - second regressor: 0.06302759742017414 - Thrid regressor: 0.07643389345441091\n"
     ]
    }
   ],
   "source": [
    "# Create the Multioutput Regressor\n",
    "y_pred =model_predict(svr,X_val)\n",
    "evaluate_model(y_val, y_pred)"
   ]
  },
  {
   "cell_type": "markdown",
   "metadata": {
    "id": "mEq5kgqhKJk-"
   },
   "source": [
    "Normalization are important for model such as SVM"
   ]
  },
  {
   "cell_type": "code",
   "execution_count": 76,
   "metadata": {
    "id": "9sRBpe28JjM1"
   },
   "outputs": [],
   "source": [
    "# Create the SVR regressor\n",
    "svrn = SVR()\n",
    "svrn = model_train(svrn,X_train_std, y_train)"
   ]
  },
  {
   "cell_type": "code",
   "execution_count": 77,
   "metadata": {
    "id": "zG-4KuLaJjJ-"
   },
   "outputs": [
    {
     "name": "stdout",
     "output_type": "stream",
     "text": [
      "MSE for first regressor: 0.12030577148920273 - second regressor: 0.012006977895257223 - Thrid regressor: 0.13246570657683968\n",
      "MAE for first regressor: 0.10083724257425755 - second regressor: 0.06972732619570149 - Thrid regressor: 0.08133431559865023\n"
     ]
    }
   ],
   "source": [
    "# Create the Multioutput Regressor\n",
    "y_pred =model_predict(svrn,X_val_std)\n",
    "evaluate_model(y_val, y_pred)"
   ]
  },
  {
   "cell_type": "markdown",
   "metadata": {
    "id": "MVrPuvG0gQNT"
   },
   "source": [
    "We found that applying Standard Scale did not have a significant impact on the performance of our SVM model. The model was able to achieve a satisfactory level of accuracy. However, for the next iteration of our analysis, we plan to explore tree-based models as they may provide a different perspective and potentially lead to further improvements in performance."
   ]
  },
  {
   "cell_type": "markdown",
   "metadata": {
    "id": "qh3xJrSkQs7n"
   },
   "source": [
    "# Try Non-Linear Models"
   ]
  },
  {
   "cell_type": "markdown",
   "metadata": {
    "id": "MPzmUoXnQy2G"
   },
   "source": [
    "Why Extra Tree ?\n",
    "Extra Trees not only randomly select the subset of features to split on at each node, but also use random thresholds for the splitting. This makes the trees more random and therefore more diverse, which can help to reduce overfitting and improve generalization.\n",
    "\n",
    "in addition to Extra Trees can be particularly useful when dealing with high-dimensional datasets this is perfect in our situation.\n"
   ]
  },
  {
   "cell_type": "code",
   "execution_count": 78,
   "metadata": {
    "colab": {
     "background_save": true
    },
    "id": "L87Tri3QQwao"
   },
   "outputs": [],
   "source": [
    "# Create the Etra regressor\n",
    "etra = ExtraTreesRegressor()\n",
    "# Create the Multioutput Regressor\n",
    "etra = model_train(etra,X_train, y_train)"
   ]
  },
  {
   "cell_type": "code",
   "execution_count": 79,
   "metadata": {
    "colab": {
     "background_save": true
    },
    "id": "FtxefbUiQwXm"
   },
   "outputs": [],
   "source": [
    "# Generate predictions for testing data\n",
    "y_pred = model_predict(etra,X_val)"
   ]
  },
  {
   "cell_type": "code",
   "execution_count": 80,
   "metadata": {
    "colab": {
     "background_save": true
    },
    "id": "KDEs-j0bQwU3"
   },
   "outputs": [
    {
     "name": "stdout",
     "output_type": "stream",
     "text": [
      "MSE for first regressor: 0.3457157629352173 - second regressor: 0.033822608693491976 - Thrid regressor: 0.4451662723571256\n",
      "MAE for first regressor: 0.14734835246377315 - second regressor: 0.07786276856380575 - Thrid regressor: 0.11791809484860996\n"
     ]
    }
   ],
   "source": [
    "evaluate_model(y_val, y_pred)"
   ]
  },
  {
   "cell_type": "markdown",
   "metadata": {
    "id": "1KnzCKmhR4Ut"
   },
   "source": [
    "Result Navie ExtraTreesRegressor it's seem accuracy as svm in validation try optimze the result on the bad esimator."
   ]
  },
  {
   "cell_type": "code",
   "execution_count": 81,
   "metadata": {
    "colab": {
     "background_save": true
    },
    "id": "KqmuojxxR30Q"
   },
   "outputs": [],
   "source": [
    "# Create the Etra regressor\n",
    "etra = ExtraTreesRegressor()\n",
    "param_grid = {\n",
    "    'n_estimators': [50,100,300],\n",
    "    'criterion': ['squared_error', 'absolute_error','friedman_mse', 'poisson'],\n",
    "    'max_depth': [2,8,16,32,50],\n",
    "    'max_features': ['auto','sqrt','log2'],    \n",
    "    'bootstrap': [True, False],\n",
    "}\n"
   ]
  },
  {
   "cell_type": "code",
   "execution_count": 82,
   "metadata": {
    "colab": {
     "background_save": true
    },
    "id": "6PyXuUYlR8J3"
   },
   "outputs": [],
   "source": [
    "gcv = RandomizedSearchCV(etra,param_grid,n_jobs=-1).fit(X_train, y_train.iloc[:,0])"
   ]
  },
  {
   "cell_type": "code",
   "execution_count": 83,
   "metadata": {
    "colab": {
     "background_save": true
    },
    "id": "IA9P9r2VR8G1"
   },
   "outputs": [],
   "source": [
    "# Create the Etra regressor\n",
    "best_etra = gcv.best_estimator_  \n",
    "# Train the regressor\n",
    "morextr = model_train(best_etra,X_train, y_train)"
   ]
  },
  {
   "cell_type": "code",
   "execution_count": 84,
   "metadata": {
    "colab": {
     "background_save": true
    },
    "id": "g2_Ka6dISGU3"
   },
   "outputs": [
    {
     "name": "stdout",
     "output_type": "stream",
     "text": [
      "MSE for first regressor: 0.1352833234791707 - second regressor: 0.030764972823884754 - Thrid regressor: 0.14146367842963686\n",
      "MAE for first regressor: 0.1444936499209394 - second regressor: 0.11571015104216542 - Thrid regressor: 0.15003954851381124\n"
     ]
    }
   ],
   "source": [
    "# Generate predictions for testing data\n",
    "y_pred = model_predict(morextr, X_val)\n",
    "evaluate_model(y_val, y_pred)"
   ]
  },
  {
   "cell_type": "markdown",
   "metadata": {
    "id": "Sfhd9zX3hiSU"
   },
   "source": [
    "Finally we will try use xgb\n",
    "\n",
    "why xgb?\n",
    "\n",
    "popular tree-based ensemble model that uses gradient boosting algorithm. It is known for its high accuracy, speed and performance in large datasets, and ability to handle missing values, making it a popular choice for machine learning tasks. Additionally, XGBRegressor has a number of tunable hyperparameters that can be adjusted to optimize performance, which can make it a powerful tool for improving the accuracy of regression models.\n",
    "\n",
    "our result almost see as SVR"
   ]
  },
  {
   "cell_type": "markdown",
   "metadata": {
    "id": "WXM0iRyaRB-G"
   },
   "source": [
    "# xgb"
   ]
  },
  {
   "cell_type": "code",
   "execution_count": 85,
   "metadata": {
    "colab": {
     "background_save": true
    },
    "id": "3co8MuSP_bjJ"
   },
   "outputs": [],
   "source": [
    "xg = xgb.XGBRegressor(random_state=42)"
   ]
  },
  {
   "cell_type": "code",
   "execution_count": 86,
   "metadata": {
    "colab": {
     "background_save": true
    },
    "id": "wC0WggsZ_zHe"
   },
   "outputs": [],
   "source": [
    "multi_xg = model_train( xg,X_train, y_train)"
   ]
  },
  {
   "cell_type": "code",
   "execution_count": 87,
   "metadata": {
    "colab": {
     "background_save": true
    },
    "id": "Gp_wnAlS_bgH"
   },
   "outputs": [
    {
     "name": "stdout",
     "output_type": "stream",
     "text": [
      "MSE for first regressor: 0.5272059378067118 - second regressor: 0.12627696590500903 - Thrid regressor: 0.4886777621549199\n",
      "MAE for first regressor: 0.14585931524348814 - second regressor: 0.0966081212926154 - Thrid regressor: 0.11353331774751992\n"
     ]
    }
   ],
   "source": [
    "# Create the Multioutput Regressor\n",
    "y_pred = model_predict(multi_xg, X_val)\n",
    "evaluate_model(y_val, y_pred)"
   ]
  },
  {
   "cell_type": "markdown",
   "metadata": {
    "id": "rkL1sgxmh8gV"
   },
   "source": [
    "We may want to consider using PCA on our models as our data has high dimensionality. PCA can help reduce the dimensionality of our feature space, allowing us to simplify our models and potentially improve their performance. By using PCA, we can identify the most important components that capture the most variation in our data and only keep those components for training our models, which can lead to better accuracy, faster training time, and less overfitting. However, it's worth noting that PCA can also result in loss of information, so it's important to carefully choose the number of components to keep and evaluate the impact on model performance"
   ]
  },
  {
   "cell_type": "markdown",
   "metadata": {
    "id": "FrU0qagNvtxU"
   },
   "source": [
    "# Using PCA"
   ]
  },
  {
   "cell_type": "code",
   "execution_count": 88,
   "metadata": {
    "colab": {
     "background_save": true
    },
    "id": "ivexs8RnvTHQ"
   },
   "outputs": [
    {
     "data": {
      "text/plain": [
       "PCA(n_components=0.99)"
      ]
     },
     "execution_count": 88,
     "metadata": {},
     "output_type": "execute_result"
    }
   ],
   "source": [
    "pca = PCA(n_components= 0.99)\n",
    "pca.fit(X_train_std)"
   ]
  },
  {
   "cell_type": "code",
   "execution_count": 89,
   "metadata": {
    "colab": {
     "background_save": true
    },
    "id": "gHg_s10BwJIL"
   },
   "outputs": [],
   "source": [
    "train = pca.transform(X_train_std)\n",
    "test = pca.transform(X_val_std)"
   ]
  },
  {
   "cell_type": "code",
   "execution_count": 90,
   "metadata": {
    "colab": {
     "background_save": true
    },
    "id": "rWxbwP__eA5O"
   },
   "outputs": [
    {
     "data": {
      "text/plain": [
       "(1483, 7)"
      ]
     },
     "execution_count": 90,
     "metadata": {},
     "output_type": "execute_result"
    }
   ],
   "source": [
    "train.shape"
   ]
  },
  {
   "cell_type": "code",
   "execution_count": 91,
   "metadata": {
    "colab": {
     "background_save": true
    },
    "id": "HKFvS6ubwTAb"
   },
   "outputs": [],
   "source": [
    "# Create the Ridge regressor\n",
    "clf_n = Ridge(alpha=0.1, tol = 1e-4)\n",
    "multi_clf_n = model_train(clf_n,train, y_train)"
   ]
  },
  {
   "cell_type": "code",
   "execution_count": 92,
   "metadata": {
    "colab": {
     "background_save": true
    },
    "id": "drPlqI-JwS9T"
   },
   "outputs": [],
   "source": [
    "# Generate predictions for testing data\n",
    "y_pred = model_predict(multi_clf_n,test)"
   ]
  },
  {
   "cell_type": "code",
   "execution_count": 93,
   "metadata": {
    "colab": {
     "background_save": true
    },
    "id": "xB-U5anAx190"
   },
   "outputs": [
    {
     "name": "stdout",
     "output_type": "stream",
     "text": [
      "MSE for first regressor: 0.12579648744532052 - second regressor: 0.02913881154810364 - Thrid regressor: 0.15124727609747457\n",
      "MAE for first regressor: 0.11811263793105023 - second regressor: 0.11791127550893984 - Thrid regressor: 0.14702144033786482\n"
     ]
    }
   ],
   "source": [
    "evaluate_model(y_val, y_pred)"
   ]
  },
  {
   "cell_type": "markdown",
   "metadata": {
    "id": "ZFbMZJ00za7T"
   },
   "source": [
    "Linear"
   ]
  },
  {
   "cell_type": "code",
   "execution_count": 94,
   "metadata": {
    "colab": {
     "background_save": true
    },
    "id": "6kQs-SzczVLb"
   },
   "outputs": [],
   "source": [
    "reg = LinearRegression()\n",
    "multi_reg = model_train(reg,train, y_train)"
   ]
  },
  {
   "cell_type": "code",
   "execution_count": 95,
   "metadata": {
    "colab": {
     "background_save": true
    },
    "id": "FRmMjNl2zVIC"
   },
   "outputs": [
    {
     "name": "stdout",
     "output_type": "stream",
     "text": [
      "MSE for first regressor: 0.12579648660181156 - second regressor: 0.029138806107966174 - Thrid regressor: 0.15124733572146132\n",
      "MAE for first regressor: 0.1181126468714062 - second regressor: 0.11791128134744851 - Thrid regressor: 0.1470215989411869\n"
     ]
    }
   ],
   "source": [
    "# Generate predictions for testing data\n",
    "y_pred = model_predict(multi_reg,test)\n",
    "evaluate_model(y_val, y_pred)"
   ]
  },
  {
   "cell_type": "markdown",
   "metadata": {
    "id": "7i-RHi4wyOkL"
   },
   "source": [
    "EXtra Tree"
   ]
  },
  {
   "cell_type": "code",
   "execution_count": 96,
   "metadata": {
    "colab": {
     "background_save": true
    },
    "id": "4RzaVBnzyNYa"
   },
   "outputs": [],
   "source": [
    "# Create the Etra regressor\n",
    "etra = ExtraTreesRegressor()\n",
    "# Create the Multioutput Regressor\n",
    "etra = model_train(etra,train, y_train)"
   ]
  },
  {
   "cell_type": "code",
   "execution_count": 97,
   "metadata": {
    "colab": {
     "background_save": true
    },
    "id": "Hse013N3yNST"
   },
   "outputs": [
    {
     "name": "stdout",
     "output_type": "stream",
     "text": [
      "MSE for first regressor: 0.1815300290438273 - second regressor: 0.028634237273992395 - Thrid regressor: 0.3837715245905265\n",
      "MAE for first regressor: 0.1278134193184645 - second regressor: 0.07429417234658765 - Thrid regressor: 0.12316859265231456\n"
     ]
    }
   ],
   "source": [
    "# Generate predictions for testing data\n",
    "y_pred = model_predict(etra,test)\n",
    "evaluate_model(y_val, y_pred)"
   ]
  },
  {
   "cell_type": "markdown",
   "metadata": {
    "id": "P7zTaSrWFQNe"
   },
   "source": [
    "Lasso with PCA"
   ]
  },
  {
   "cell_type": "code",
   "execution_count": 98,
   "metadata": {
    "colab": {
     "background_save": true
    },
    "id": "FQ6YKp-QFTYd"
   },
   "outputs": [],
   "source": [
    "lasso = Lasso(alpha=0.2, tol = 1e-5)\n",
    "multi_clf_lasso1 = model_train(lasso,train, y_train)"
   ]
  },
  {
   "cell_type": "code",
   "execution_count": 99,
   "metadata": {
    "colab": {
     "background_save": true
    },
    "id": "jBkOn3LmFTWF"
   },
   "outputs": [],
   "source": [
    "# Generate predictions for testing data\n",
    "y_pred = model_predict(multi_clf_lasso1,test)"
   ]
  },
  {
   "cell_type": "code",
   "execution_count": 100,
   "metadata": {
    "colab": {
     "background_save": true
    },
    "id": "9MHj7yeJFcJG"
   },
   "outputs": [
    {
     "name": "stdout",
     "output_type": "stream",
     "text": [
      "MSE for first regressor: 0.12757766602157308 - second regressor: 0.03051401851771512 - Thrid regressor: 0.14413215387744738\n",
      "MAE for first regressor: 0.12007814152909187 - second regressor: 0.11976122127370428 - Thrid regressor: 0.12983896144535056\n"
     ]
    }
   ],
   "source": [
    "evaluate_model(y_val, y_pred)"
   ]
  },
  {
   "cell_type": "markdown",
   "metadata": {
    "id": "JP5Ei1jTi4IU"
   },
   "source": [
    "XGBOOST with PCA"
   ]
  },
  {
   "cell_type": "code",
   "execution_count": 101,
   "metadata": {
    "colab": {
     "background_save": true
    },
    "id": "1jnxgVaEixqm"
   },
   "outputs": [],
   "source": [
    "xg = xgb.XGBRegressor(random_state=42)\n",
    "multi_xg = model_train( xg,train, y_train)"
   ]
  },
  {
   "cell_type": "code",
   "execution_count": 102,
   "metadata": {
    "colab": {
     "background_save": true
    },
    "id": "drhQg4uVixl1"
   },
   "outputs": [
    {
     "name": "stdout",
     "output_type": "stream",
     "text": [
      "MSE for first regressor: 0.3063239907442858 - second regressor: 0.016698722211344892 - Thrid regressor: 1.4182959989488049\n",
      "MAE for first regressor: 0.13840581419249504 - second regressor: 0.07943705044940334 - Thrid regressor: 0.17393321084181654\n"
     ]
    }
   ],
   "source": [
    "# Generate predictions for testing data\n",
    "y_pred = model_predict(multi_xg,test)\n",
    "evaluate_model(y_val, y_pred)"
   ]
  },
  {
   "attachments": {},
   "cell_type": "markdown",
   "metadata": {},
   "source": [
    "    SVR With PCA"
   ]
  },
  {
   "cell_type": "code",
   "execution_count": 103,
   "metadata": {},
   "outputs": [],
   "source": [
    "svr_pca = SVR()\n",
    "multi_svr_pca = model_train( svr_pca,train, y_train)"
   ]
  },
  {
   "cell_type": "code",
   "execution_count": 105,
   "metadata": {},
   "outputs": [
    {
     "name": "stdout",
     "output_type": "stream",
     "text": [
      "MSE for first regressor: 0.12123246228866742 - second regressor: 0.012336476962170677 - Thrid regressor: 0.1327945134977274\n",
      "MAE for first regressor: 0.10383843064339275 - second regressor: 0.06964454700541187 - Thrid regressor: 0.08098357221802185\n"
     ]
    }
   ],
   "source": [
    "# Generate predictions for testing data\n",
    "y_pred = model_predict(multi_svr_pca,test)\n",
    "evaluate_model(y_val, y_pred)"
   ]
  },
  {
   "attachments": {},
   "cell_type": "markdown",
   "metadata": {
    "id": "H5kYyNaBJ2O1"
   },
   "source": [
    "As a conclusion, using PCA to reduce the dimensionality of the data to only 7 components, did not lead to a decrease in accuracy in most cases. This approach can be useful when working with high-dimensional data, as it can help to reduce the computational cost and potentially improve the performance of the model. However, it is important to note that the optimal number of components to use may vary depending on the specific problem and data set, and it may require some experimentation to find the best approach.\n"
   ]
  },
  {
   "cell_type": "markdown",
   "metadata": {
    "id": "IYNF3J7bKdpH"
   },
   "source": [
    "# Make Model Pipeline"
   ]
  },
  {
   "cell_type": "markdown",
   "metadata": {
    "id": "VXRsC7p3j4Js"
   },
   "source": [
    "We continued our analysis by exploring the combination of PCA and SVR, and found that using PCA with SVR resulted in the best accuracy for most models. This approach allowed us to reduce the dimensionality of the data while maintaining high accuracy, demonstrating the effectiveness of this technique in improving the performance of our models."
   ]
  },
  {
   "cell_type": "code",
   "execution_count": 106,
   "metadata": {
    "colab": {
     "background_save": true
    },
    "id": "yIBNPB4Aj3e1"
   },
   "outputs": [
    {
     "name": "stdout",
     "output_type": "stream",
     "text": [
      "MSE for first regressor: 0.11887540566526163 - second regressor: 0.01206745417938321 - Thrid regressor: 0.1304682770242424\n",
      "MAE for first regressor: 0.0980016876764528 - second regressor: 0.06302759742017414 - Thrid regressor: 0.07643389345441091\n"
     ]
    }
   ],
   "source": [
    "# Create the SVR regressor\n",
    "svr = SVR()\n",
    "svr = model_train(svr,X_train, y_train)\n",
    "# Create the Multioutput Regressor\n",
    "y_pred = model_predict(svr,X_val)\n",
    "evaluate_model(y_val, y_pred)"
   ]
  },
  {
   "cell_type": "code",
   "execution_count": 107,
   "metadata": {
    "id": "HZiB-ZzDKhbl"
   },
   "outputs": [],
   "source": [
    "pipe = Pipeline([('scaler', StandardScaler()),('pca',PCA(n_components= 0.99)), ('svr', SVR())])"
   ]
  },
  {
   "cell_type": "code",
   "execution_count": 108,
   "metadata": {
    "id": "6PmZNz3yKhVV"
   },
   "outputs": [],
   "source": [
    "morsvr = model_train(pipe,X_train, y_train)"
   ]
  },
  {
   "cell_type": "code",
   "execution_count": 109,
   "metadata": {
    "id": "wmhfX9n3KhSn"
   },
   "outputs": [
    {
     "name": "stdout",
     "output_type": "stream",
     "text": [
      "MSE for first regressor: 0.12123246228866742 - second regressor: 0.012336476962170656 - Thrid regressor: 0.13279451349772745\n",
      "MAE for first regressor: 0.10383843064339299 - second regressor: 0.0696445470054118 - Thrid regressor: 0.08098357221802191\n"
     ]
    }
   ],
   "source": [
    "y_pred = model_predict(morsvr,X_val)\n",
    "evaluate_model(y_val, y_pred)"
   ]
  },
  {
   "cell_type": "markdown",
   "metadata": {
    "id": "Y1v9I70ubTlM"
   },
   "source": [
    "# Draw"
   ]
  },
  {
   "cell_type": "markdown",
   "metadata": {
    "id": "KhNEwm4dlW0F"
   },
   "source": [
    "This function takes in Euler angles (roll, yaw, pitch) and returns a 3x3 rotation matrix that represents the same rotation as the Euler angles. The rotation matrix is obtained by computing the product of three separate rotation matrices, one for each Euler angle, which are constructed using trigonometric functions.\n",
    "\n",
    "The resulting rotation matrix can be used to transform a 3D object, such as an image or point cloud, to the orientation specified by the input Euler angles."
   ]
  },
  {
   "cell_type": "code",
   "execution_count": 32,
   "metadata": {
    "id": "-tNNM2MbQAfL"
   },
   "outputs": [],
   "source": [
    "def EulerToMatrix(roll, yaw, pitch):\n",
    "    # roll - z axis\n",
    "    # yaw  - y axis\n",
    "    # pitch - x axis\n",
    "    roll = roll / 180 * np.pi\n",
    "    yaw = yaw / 180 * np.pi\n",
    "    pitch = pitch / 180 * np.pi\n",
    "\n",
    "    Rz = [[math.cos(roll), -math.sin(roll), 0],\n",
    "          [math.sin(roll), math.cos(roll), 0],\n",
    "          [0, 0, 1]]\n",
    "\n",
    "    Ry = [[math.cos(yaw), 0, math.sin(yaw)],\n",
    "          [0, 1, 0],\n",
    "          [-math.sin(yaw), 0, math.cos(yaw)]]\n",
    "\n",
    "    Rx = [[1, 0, 0],\n",
    "          [0, math.cos(pitch), -math.sin(pitch)],\n",
    "          [0, math.sin(pitch), math.cos(pitch)]]\n",
    "\n",
    "    matrix = np.matmul(Rx, Ry)\n",
    "    matrix = np.matmul(matrix, Rz)\n",
    "\n",
    "    return matrix"
   ]
  },
  {
   "cell_type": "markdown",
   "metadata": {
    "id": "10u4Dx9qmddF"
   },
   "source": [
    "The draw_axis function is used to draw a set of 3D axes on an input image, with the orientation of the axes determined by the input pitch, yaw, and roll angles. The function takes in the following parameters:\n",
    "\n",
    "img: The input image on which to draw the axes.\n",
    "pitch: The pitch angle in degrees.\n",
    "yaw: The yaw angle in degrees.\n",
    "roll: The roll angle in degrees.\n",
    "tdx: The x-coordinate of the center point of the axes. If not provided, the center of the image is used.\n",
    "tdy: The y-coordinate of the center point of the axes. If not provided, the center of the image is used.\n",
    "size: The length of the axes to be drawn in pixels.\n",
    "The function first adjusts the input yaw value by negating it, and then calculates the 3D coordinates of the endpoints of the three axes using the input pitch, yaw, and roll angles. The function then draws the three axes on the input image using OpenCV's cv2.line function, with red representing the x-axis, green representing the y-axis, and blue representing the z-axis.\n",
    "\n",
    "The function returns the input image with the 3D axes drawn on it."
   ]
  },
  {
   "cell_type": "code",
   "execution_count": 33,
   "metadata": {
    "id": "KaRy8XE4lEOl"
   },
   "outputs": [],
   "source": [
    "def draw_axis(img, pitch,yaw,roll, tdx=None, tdy=None, size = 100):\n",
    "\n",
    "    yaw = -yaw\n",
    "    if tdx != None and tdy != None:\n",
    "        tdx = tdx\n",
    "        tdy = tdy\n",
    "    else:\n",
    "        height, width = img.shape[:2]\n",
    "        tdx = width / 2\n",
    "        tdy = height / 2\n",
    "\n",
    "    # X-Axis pointing to right. drawn in red\n",
    "    x1 = size * (math.cos(yaw) * math.cos(roll)) + tdx\n",
    "    y1 = size * (math.cos(pitch) * math.sin(roll) + math.cos(roll) * math.sin(pitch) * math.sin(yaw)) + tdy\n",
    "\n",
    "    # Y-Axis | drawn in green\n",
    "    #        v\n",
    "    x2 = size * (-math.cos(yaw) * math.sin(roll)) + tdx\n",
    "    y2 = size * (math.cos(pitch) * math.cos(roll) - math.sin(pitch) * math.sin(yaw) * math.sin(roll)) + tdy\n",
    "\n",
    "    # Z-Axis (out of the screen) drawn in blue\n",
    "    x3 = size * (math.sin(yaw)) + tdx\n",
    "    y3 = size * (-math.cos(yaw) * math.sin(pitch)) + tdy\n",
    "\n",
    "    cv2.line(img, (int(tdx), int(tdy)), (int(x1),int(y1)),(0,0,255),3)\n",
    "    cv2.line(img, (int(tdx), int(tdy)), (int(x2),int(y2)),(0,255,0),3)\n",
    "    cv2.line(img, (int(tdx), int(tdy)), (int(x3),int(y3)),(255,0,0),2)\n",
    "\n",
    "    return img"
   ]
  },
  {
   "cell_type": "markdown",
   "metadata": {
    "id": "j2jcVyjRv8U2"
   },
   "source": [
    "# Position Nose"
   ]
  },
  {
   "cell_type": "code",
   "execution_count": null,
   "metadata": {
    "id": "2ur2DjjhzVJg"
   },
   "outputs": [],
   "source": [
    "!curl  'https://raw.githubusercontent.com/adobe/SimpleSensor/master/simplesensor/collection_modules/demographic_camera/classifiers/haarcascades/haarcascade_mcs_nose.xml' > haarcascade_mcs_nose.xml\n"
   ]
  },
  {
   "cell_type": "markdown",
   "metadata": {
    "id": "83_Qh1bNlvSd"
   },
   "source": [
    "This function takes an image as input and detects the position of the nose in the image. It returns the x and y coordinates of the center of the nose.\n",
    "\n",
    "\n",
    "**But we replace it using the media pipe feature point of the nose**"
   ]
  },
  {
   "cell_type": "code",
   "execution_count": null,
   "metadata": {
    "id": "OyuDdYhpwAIv"
   },
   "outputs": [],
   "source": [
    "\"\"\"def position_nose(img):\n",
    "  # Load the Haar cascade classifier XML file\n",
    "  nose_cascade = cv2.CascadeClassifier(\"/content/haarcascade_mcs_nose.xml\")\n",
    "  if nose_cascade.empty():\n",
    "    return 0,0\n",
    "  img = convert_RGB(img)\n",
    "  gray = cv2.cvtColor(img, cv2.COLOR_BGR2GRAY)\n",
    "  nose_rects = nose_cascade.detectMultiScale(gray, 1.3, 5)\n",
    "  for (x,y,w,h) in nose_rects:\n",
    "    return int((x+x+w)/2), int((y+y+h)/2)\n",
    "  return 0,0\"\"\""
   ]
  },
  {
   "cell_type": "markdown",
   "metadata": {
    "id": "Q_yrzbccdBb7"
   },
   "source": [
    "# Test"
   ]
  },
  {
   "cell_type": "code",
   "execution_count": 119,
   "metadata": {
    "id": "AnLNf0-NIHEd"
   },
   "outputs": [],
   "source": [
    "def imge_prediction(img, model):\n",
    "\n",
    "    if type(img) is str:\n",
    "        img = plt.imread(img)\n",
    "    \n",
    "    list_mesh = multi_preprocessing(img)\n",
    "    df = pd.DataFrame(pd.Series(list_mesh))\n",
    "    \n",
    "    if df.empty == True:\n",
    "        return img\n",
    "    \n",
    "    nose_x, nose_y = df.T['X 1'][0], df.T['Y 1'][0]\n",
    "    \n",
    "    list_mesh = normalise_nose(df.T)\n",
    "     \n",
    "    \n",
    "    if list_mesh.shape[1] == model.n_features_in_:\n",
    "        y_pred = model.predict(list_mesh)\n",
    "        \n",
    "        if list_mesh['X 1'][0] is not None:\n",
    "            \n",
    "                img = convert_RGB(img)   \n",
    "                return draw_axis(img, y_pred[0][0], y_pred[0][1], y_pred[0][2], tdx=nose_x*img.shape[1], tdy=nose_y*img.shape[0], size=100)\n",
    "\n",
    "    return img\n"
   ]
  },
  {
   "cell_type": "code",
   "execution_count": 117,
   "metadata": {
    "id": "aViEtlBtJTkG"
   },
   "outputs": [
    {
     "data": {
      "text/plain": [
       "<matplotlib.image.AxesImage at 0x1a3accaf850>"
      ]
     },
     "execution_count": 117,
     "metadata": {},
     "output_type": "execute_result"
    },
    {
     "data": {
      "image/png": "[encoded data removed]",
      "text/plain": [
       "<Figure size 640x480 with 1 Axes>"
      ]
     },
     "metadata": {},
     "output_type": "display_data"
    }
   ],
   "source": [
    "plt.imshow(imge_prediction('AFLW2000/image00002.jpg', morsvr))\n"
   ]
  },
  {
   "cell_type": "markdown",
   "metadata": {
    "id": "dHziXkCALJel"
   },
   "source": [
    "# video"
   ]
  },
  {
   "cell_type": "code",
   "execution_count": null,
   "metadata": {
    "id": "moBchhFtQp3V"
   },
   "outputs": [],
   "source": [
    "#from google.colab import drive\n",
    "#drive.mount('/content/drive')"
   ]
  },
  {
   "cell_type": "code",
   "execution_count": null,
   "metadata": {
    "id": "kyBqPVlo0SEN"
   },
   "outputs": [],
   "source": [
    "#!cp '/content/drive/MyDrive/dataset/WhatsApp Video 2023-02-19 at 8.19.33 PM.mp4'  \"/content/uploaded.mp4\""
   ]
  },
  {
   "cell_type": "code",
   "execution_count": 124,
   "metadata": {
    "id": "g_2HblxvYkN2"
   },
   "outputs": [],
   "source": [
    "video_path = \"FINAL-VIDEO.mp4\"\n",
    "\n",
    "cap = cv2.VideoCapture(video_path)\n",
    "\n",
    "rotateCode = False\n",
    "\n",
    "video_height = int(cap.get(cv2.CAP_PROP_FRAME_HEIGHT))\n",
    "video_width = int(cap.get(cv2.CAP_PROP_FRAME_WIDTH))\n",
    "\n",
    "video_fps = cap.get(cv2.CAP_PROP_FPS)\n",
    "\n",
    "out = cv2.VideoWriter(\"final.mp4\", fourcc=cv2.VideoWriter_fourcc(*'mp4v'), fps=int(video_fps), frameSize=(video_width, video_height))\n",
    "\n",
    "# Check if the video is opened successfully\n",
    "if not cap.isOpened():\n",
    "\n",
    "    print(\"Error opening video file\")\n",
    "\n",
    "# Read the frames of the video\n",
    "while True:\n",
    "    ret, frame = cap.read()\n",
    "\n",
    "    # Break the loop if the video is over\n",
    "    if not ret:\n",
    "        break\n",
    "\n",
    "    \n",
    "    if rotateCode:\n",
    "         frame = cv2.rotate(frame, cv2.ROTATE_180)\n",
    "\n",
    "    \n",
    "    img = cv2.cvtColor(frame, cv2.COLOR_BGR2RGB)\n",
    "\n",
    "    \n",
    "    result = imge_prediction(frame, morsvr)\n",
    "\n",
    "    if type(result) is type(None):\n",
    "        continue\n",
    "\n",
    "    \n",
    "    frame = np.uint8(result)\n",
    "    \n",
    "    out.write(frame)\n",
    "    # Break the loop if the user presses \"q\"\n",
    "    if cv2.waitKey(25) & 0xFF == ord(\"q\"):\n",
    "        break\n",
    "\n",
    "# Release the video capture object and destroy all windows\n",
    "out.release()\n",
    "cap.release()\n",
    "#cv2.destroyAllWindows()\n"
   ]
  },
  {
   "cell_type": "markdown",
   "metadata": {
    "id": "lVhYL4Bj0xC3"
   },
   "source": [
    "# Run Time video"
   ]
  },
  {
   "cell_type": "code",
   "execution_count": null,
   "metadata": {
    "id": "WBu32rC6fRXz"
   },
   "outputs": [],
   "source": [
    "from IPython.display import display, Javascript, Image\n",
    "from google.colab.output import eval_js\n",
    "from base64 import b64decode, b64encode\n",
    "import PIL\n",
    "import io\n",
    "import html\n",
    "import time\n"
   ]
  },
  {
   "cell_type": "code",
   "execution_count": null,
   "metadata": {
    "id": "H4xnerBjfIs5"
   },
   "outputs": [],
   "source": [
    "# function to convert the JavaScript object into an OpenCV image\n",
    "def js_to_image(js_reply):\n",
    "  \"\"\"\n",
    "  Params:\n",
    "          js_reply: JavaScript object containing image from webcam\n",
    "  Returns:\n",
    "          img: OpenCV RGB image\n",
    "  \"\"\"\n",
    "  # decode base64 image\n",
    "  image_bytes = b64decode(js_reply.split(',')[1])\n",
    "  # convert bytes to numpy array\n",
    "  jpg_as_np = np.frombuffer(image_bytes, dtype=np.uint8)\n",
    "  # decode numpy array into OpenCV RGB image\n",
    "  img = cv2.imdecode(jpg_as_np, flags=1)\n",
    "\n",
    "  return img\n",
    "\n",
    "# function to convert OpenCV Rectangle bounding box image into base64 byte string to be overlayed on video stream\n",
    "def bbox_to_bytes(bbox_array):\n",
    "  \"\"\"\n",
    "  Params:\n",
    "          bbox_array: Numpy array (pixels) containing rectangle to overlay on video stream.\n",
    "  Returns:\n",
    "        bytes: Base64 image byte string\n",
    "  \"\"\"\n",
    "\n",
    "  # convert array into PIL image\n",
    "  bbox_PIL = PIL.Image.fromarray(bbox_array, 'RGB')\n",
    "  iobuf = io.BytesIO()\n",
    "  # format bbox into png for return\n",
    "  bbox_PIL.save(iobuf, format='png')\n",
    "  # format return string\n",
    "  bbox_bytes = 'data:image/png;base64,{}'.format((str(b64encode(iobuf.getvalue()), 'utf-8')))\n",
    "\n",
    "  return bbox_bytes"
   ]
  },
  {
   "cell_type": "code",
   "execution_count": null,
   "metadata": {
    "id": "qT5TWs5kfIqI"
   },
   "outputs": [],
   "source": [
    "# JavaScript to properly create our live video stream using our webcam as input\n",
    "def video_stream():\n",
    "\n",
    "    js = Javascript('''\n",
    "        var video;\n",
    "        var div = null;\n",
    "        var stream;\n",
    "        var captureCanvas;\n",
    "        var imgElement;\n",
    "        var labelElement;\n",
    "        \n",
    "        var pendingResolve = null;\n",
    "        var shutdown = false;\n",
    "        \n",
    "        \n",
    "        function onAnimationFrame() {\n",
    "            if (!shutdown) {\n",
    "                window.requestAnimationFrame(onAnimationFrame);\n",
    "            }\n",
    "            if (pendingResolve) {\n",
    "\n",
    "                var result = \"\";\n",
    "\n",
    "                if (!shutdown) {\n",
    "                    captureCanvas.getContext('2d').drawImage(video, 0, 0, 640, 480);\n",
    "                    result = captureCanvas.toDataURL('image/jpeg', 0.8)\n",
    "                }\n",
    "\n",
    "                var lp = pendingResolve;\n",
    "\n",
    "                pendingResolve = null;\n",
    "                lp(result);\n",
    "            }\n",
    "        }\n",
    "        \n",
    "        async function createDom() {\n",
    "            if (div !== null) {\n",
    "                return stream;\n",
    "            }\n",
    "\n",
    "            div = document.createElement('div');\n",
    "            div.style.border = '2px solid black';\n",
    "            div.style.padding = '3px';\n",
    "            div.style.width = '100%';\n",
    "            div.style.maxWidth = '600px';\n",
    "            document.body.appendChild(div);\n",
    "            \n",
    "            const modelOut = document.createElement('div');\n",
    "            modelOut.innerHTML = \"<span>Status:</span>\";\n",
    "            labelElement = document.createElement('span');\n",
    "            labelElement.innerText = 'No data';\n",
    "            labelElement.style.fontWeight = 'bold';\n",
    "            modelOut.appendChild(labelElement);\n",
    "            div.appendChild(modelOut);\n",
    "                \n",
    "            video = document.createElement('video');\n",
    "            video.style.display = 'block';\n",
    "            video.width = div.clientWidth - 6;\n",
    "            video.setAttribute('playsinline', '');\n",
    "            video.onclick = () => { shutdown = true; };\n",
    "            stream = await navigator.mediaDevices.getUserMedia(\n",
    "                        {video: {facingMode: \"environment\"}}\n",
    "                    );\n",
    "            div.appendChild(video);\n",
    "\n",
    "            imgElement = document.createElement('img');\n",
    "            imgElement.style.position = 'absolute';\n",
    "            imgElement.style.zIndex = 1;\n",
    "            imgElement.onclick = () => { shutdown = true; };\n",
    "            div.appendChild(imgElement);\n",
    "            \n",
    "            const instruction = document.createElement('div');\n",
    "            instruction.innerHTML = \n",
    "                '<span style=\"color: red; font-weight: bold;\">' +\n",
    "                'When finished, click here or on the video to stop this demo</span>';\n",
    "            div.appendChild(instruction);\n",
    "            instruction.onclick = () => {shutdown = true;};\n",
    "            \n",
    "            video.srcObject = stream;\n",
    "            await video.play();\n",
    "\n",
    "            captureCanvas = document.createElement('canvas');\n",
    "            captureCanvas.width = 640; //video.videoWidth;\n",
    "            captureCanvas.height = 480; //video.videoHeight;\n",
    "            window.requestAnimationFrame(onAnimationFrame);\n",
    "            \n",
    "            return stream;\n",
    "        }\n",
    "\n",
    "        function removeDom() {\n",
    "            stream.getVideoTracks()[0].stop();\n",
    "            video.remove();\n",
    "            div.remove();\n",
    "            video = null;\n",
    "            div = null;\n",
    "            stream = null;\n",
    "            imgElement = null;\n",
    "            captureCanvas = null;\n",
    "            labelElement = null;\n",
    "        }\n",
    "\n",
    "        async function stream_frame(label, imgData) {\n",
    "            if (shutdown) {\n",
    "                removeDom();\n",
    "                shutdown = false;\n",
    "                return '';\n",
    "            }\n",
    "\n",
    "            var preCreate = Date.now();\n",
    "            stream = await createDom();\n",
    "            \n",
    "            var preShow = Date.now();\n",
    "\n",
    "            if (label != \"\") {\n",
    "                labelElement.innerHTML = label;\n",
    "            }\n",
    "                    \n",
    "            if (imgData != \"\") {\n",
    "                var videoRect = video.getClientRects()[0];\n",
    "                imgElement.style.top = videoRect.top + \"px\";\n",
    "                imgElement.style.left = videoRect.left + \"px\";\n",
    "                imgElement.style.width = videoRect.width + \"px\";\n",
    "                imgElement.style.height = videoRect.height + \"px\";\n",
    "                imgElement.src = imgData;\n",
    "            }\n",
    "            \n",
    "            var preCapture = Date.now();\n",
    "            var result = await new Promise(function(resolve, reject) {\n",
    "                        pendingResolve = resolve;\n",
    "                    }\n",
    "            );\n",
    "            shutdown = false;\n",
    "            \n",
    "            return {'create': preShow - preCreate, \n",
    "                    'show': preCapture - preShow, \n",
    "                    'capture': Date.now() - preCapture,\n",
    "                    'img': result};\n",
    "        }\n",
    "\n",
    "    ''')\n",
    "\n",
    "    display(js)\n",
    "  \n",
    "def video_frame(label, bbox):\n",
    "  data = eval_js('stream_frame(\"{}\", \"{}\")'.format(label, bbox))\n",
    "  return data"
   ]
  },
  {
   "cell_type": "code",
   "execution_count": null,
   "metadata": {
    "id": "dU-rvexufWPA"
   },
   "outputs": [],
   "source": [
    "frames = np.empty(shape=(0,480,640,3))\n",
    "# start streaming video from webcam\n",
    "video_stream()\n",
    "# label for video\n",
    "label_html = 'Capturing...'\n",
    "# initialze bounding box to empty\n",
    "bbox = ''\n",
    "\n",
    "while True:\n",
    "    js_reply = video_frame(label_html, bbox)\n",
    "\n",
    "    if not js_reply:\n",
    "        break\n",
    "\n",
    "    # convert JS response to OpenCV Image\n",
    "    img = js_to_image(js_reply[\"img\"])\n",
    "\n",
    "\n",
    "    result = imge_prediction(img, morsvr)\n",
    "\n",
    "\n",
    "\n",
    "    if  result:\n",
    "        frames = np.append(frames, np.expand_dims(result, axis=0), axis=0)\n",
    "        res_bytes = bbox_to_bytes(result)\n",
    "        # update bbox so next frame gets new overlay\n",
    "        bbox = res_bytes"
   ]
  },
  {
   "cell_type": "code",
   "execution_count": null,
   "metadata": {
    "id": "Hi_POHKTTID3"
   },
   "outputs": [],
   "source": [
    "height, width = frames.shape[1:3]\n",
    "print(f\"number of frames: {frames.shape[0]} and width: {width} and height: {height}\")"
   ]
  },
  {
   "cell_type": "code",
   "execution_count": null,
   "metadata": {
    "id": "o7aIFo4cfjCo"
   },
   "outputs": [],
   "source": [
    "out = cv2.VideoWriter(\"videoStream.mp4\", cv2.VideoWriter_fourcc(*'mp4v'), 1, (width, height))\n",
    "for frame in frames:\n",
    "    \n",
    "    frame = np.uint8(frame)\n",
    "    out.write(frame) \n",
    "out.release()"
   ]
  },
  {
   "cell_type": "code",
   "execution_count": null,
   "metadata": {
    "id": "xng9SHusg1jV"
   },
   "outputs": [],
   "source": []
  }
 ],
 "metadata": {
  "colab": {
   "provenance": []
  },
  "gpuClass": "standard",
  "kernelspec": {
   "display_name": "base",
   "language": "python",
   "name": "python3"
  },
  "language_info": {
   "codemirror_mode": {
    "name": "ipython",
    "version": 3
   },
   "file_extension": ".py",
   "mimetype": "text/x-python",
   "name": "python",
   "nbconvert_exporter": "python",
   "pygments_lexer": "ipython3",
   "version": "3.9.13"
  },
  "vscode": {
   "interpreter": {
    "hash": "4c3bb0dd0e872a9fa34dcec78a4cd41b8cc2ac5cbe6ae443bdb0029bdd2040d5"
   }
  }
 },
 "nbformat": 4,
 "nbformat_minor": 1
}
